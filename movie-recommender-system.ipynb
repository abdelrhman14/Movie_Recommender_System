{
 "cells": [
  {
   "cell_type": "code",
   "execution_count": 1,
   "id": "85f5a119",
   "metadata": {
    "execution": {
     "iopub.execute_input": "2021-12-13T19:00:18.353776Z",
     "iopub.status.busy": "2021-12-13T19:00:18.353046Z",
     "iopub.status.idle": "2021-12-13T19:00:19.422554Z",
     "shell.execute_reply": "2021-12-13T19:00:19.421743Z",
     "shell.execute_reply.started": "2021-12-13T18:58:34.693392Z"
    },
    "id": "KHX5GIX9vpVx",
    "papermill": {
     "duration": 1.111751,
     "end_time": "2021-12-13T19:00:19.422727",
     "exception": false,
     "start_time": "2021-12-13T19:00:18.310976",
     "status": "completed"
    },
    "tags": []
   },
   "outputs": [],
   "source": [
    "import numpy as np \n",
    "import pandas as pd\n",
    "import seaborn as sb\n",
    "import matplotlib.pyplot as plt"
   ]
  },
  {
   "cell_type": "code",
   "execution_count": 2,
   "id": "9c295368",
   "metadata": {
    "execution": {
     "iopub.execute_input": "2021-12-13T19:00:19.494315Z",
     "iopub.status.busy": "2021-12-13T19:00:19.493663Z",
     "iopub.status.idle": "2021-12-13T19:00:21.086584Z",
     "shell.execute_reply": "2021-12-13T19:00:21.085224Z",
     "shell.execute_reply.started": "2021-12-13T18:58:35.691368Z"
    },
    "id": "feHmWujfwH9I",
    "outputId": "784f48ee-993a-4b3a-d0ba-e78ad996b224",
    "papermill": {
     "duration": 1.630223,
     "end_time": "2021-12-13T19:00:21.086746",
     "exception": false,
     "start_time": "2021-12-13T19:00:19.456523",
     "status": "completed"
    },
    "tags": []
   },
   "outputs": [
    {
     "name": "stdout",
     "output_type": "stream",
     "text": [
      "   movie_id                                     title  \\\n",
      "0     19995                                    Avatar   \n",
      "1       285  Pirates of the Caribbean: At World's End   \n",
      "2    206647                                   Spectre   \n",
      "\n",
      "                                                cast  \\\n",
      "0  [{\"cast_id\": 242, \"character\": \"Jake Sully\", \"...   \n",
      "1  [{\"cast_id\": 4, \"character\": \"Captain Jack Spa...   \n",
      "2  [{\"cast_id\": 1, \"character\": \"James Bond\", \"cr...   \n",
      "\n",
      "                                                crew  \n",
      "0  [{\"credit_id\": \"52fe48009251416c750aca23\", \"de...  \n",
      "1  [{\"credit_id\": \"52fe4232c3a36847f800b579\", \"de...  \n",
      "2  [{\"credit_id\": \"54805967c3a36829b5002c41\", \"de...  \n",
      "(4803, 4)\n",
      "movie_id\n",
      "title\n",
      "cast\n",
      "crew\n"
     ]
    }
   ],
   "source": [
    "credits = pd.read_csv('../input/tmdb-movie-metadata/tmdb_5000_credits.csv')\n",
    "print(credits.head(3))\n",
    "print(credits.shape)\n",
    "for i in credits.columns:\n",
    "    print(i)"
   ]
  },
  {
   "cell_type": "code",
   "execution_count": 3,
   "id": "be4d35d2",
   "metadata": {
    "execution": {
     "iopub.execute_input": "2021-12-13T19:00:21.157369Z",
     "iopub.status.busy": "2021-12-13T19:00:21.156704Z",
     "iopub.status.idle": "2021-12-13T19:00:21.403378Z",
     "shell.execute_reply": "2021-12-13T19:00:21.402782Z",
     "shell.execute_reply.started": "2021-12-13T18:58:36.480692Z"
    },
    "id": "2pba9njQ7QT5",
    "outputId": "eda1fa0e-5cb8-419e-ca14-a3ff38b637a6",
    "papermill": {
     "duration": 0.283633,
     "end_time": "2021-12-13T19:00:21.403553",
     "exception": false,
     "start_time": "2021-12-13T19:00:21.119920",
     "status": "completed"
    },
    "tags": []
   },
   "outputs": [
    {
     "name": "stdout",
     "output_type": "stream",
     "text": [
      "      budget                                             genres  \\\n",
      "0  237000000  [{\"id\": 28, \"name\": \"Action\"}, {\"id\": 12, \"nam...   \n",
      "1  300000000  [{\"id\": 12, \"name\": \"Adventure\"}, {\"id\": 14, \"...   \n",
      "2  245000000  [{\"id\": 28, \"name\": \"Action\"}, {\"id\": 12, \"nam...   \n",
      "\n",
      "                                       homepage      id  \\\n",
      "0                   http://www.avatarmovie.com/   19995   \n",
      "1  http://disney.go.com/disneypictures/pirates/     285   \n",
      "2   http://www.sonypictures.com/movies/spectre/  206647   \n",
      "\n",
      "                                            keywords original_language  \\\n",
      "0  [{\"id\": 1463, \"name\": \"culture clash\"}, {\"id\":...                en   \n",
      "1  [{\"id\": 270, \"name\": \"ocean\"}, {\"id\": 726, \"na...                en   \n",
      "2  [{\"id\": 470, \"name\": \"spy\"}, {\"id\": 818, \"name...                en   \n",
      "\n",
      "                             original_title  \\\n",
      "0                                    Avatar   \n",
      "1  Pirates of the Caribbean: At World's End   \n",
      "2                                   Spectre   \n",
      "\n",
      "                                            overview  popularity  \\\n",
      "0  In the 22nd century, a paraplegic Marine is di...  150.437577   \n",
      "1  Captain Barbossa, long believed to be dead, ha...  139.082615   \n",
      "2  A cryptic message from Bond’s past sends him o...  107.376788   \n",
      "\n",
      "                                production_companies  \\\n",
      "0  [{\"name\": \"Ingenious Film Partners\", \"id\": 289...   \n",
      "1  [{\"name\": \"Walt Disney Pictures\", \"id\": 2}, {\"...   \n",
      "2  [{\"name\": \"Columbia Pictures\", \"id\": 5}, {\"nam...   \n",
      "\n",
      "                                production_countries release_date     revenue  \\\n",
      "0  [{\"iso_3166_1\": \"US\", \"name\": \"United States o...   2009-12-10  2787965087   \n",
      "1  [{\"iso_3166_1\": \"US\", \"name\": \"United States o...   2007-05-19   961000000   \n",
      "2  [{\"iso_3166_1\": \"GB\", \"name\": \"United Kingdom\"...   2015-10-26   880674609   \n",
      "\n",
      "   runtime                                   spoken_languages    status  \\\n",
      "0    162.0  [{\"iso_639_1\": \"en\", \"name\": \"English\"}, {\"iso...  Released   \n",
      "1    169.0           [{\"iso_639_1\": \"en\", \"name\": \"English\"}]  Released   \n",
      "2    148.0  [{\"iso_639_1\": \"fr\", \"name\": \"Fran\\u00e7ais\"},...  Released   \n",
      "\n",
      "                                          tagline  \\\n",
      "0                     Enter the World of Pandora.   \n",
      "1  At the end of the world, the adventure begins.   \n",
      "2                           A Plan No One Escapes   \n",
      "\n",
      "                                      title  vote_average  vote_count  \n",
      "0                                    Avatar           7.2       11800  \n",
      "1  Pirates of the Caribbean: At World's End           6.9        4500  \n",
      "2                                   Spectre           6.3        4466  \n",
      "(4803, 20)\n",
      "budget\n",
      "genres\n",
      "homepage\n",
      "id\n",
      "keywords\n",
      "original_language\n",
      "original_title\n",
      "overview\n",
      "popularity\n",
      "production_companies\n",
      "production_countries\n",
      "release_date\n",
      "revenue\n",
      "runtime\n",
      "spoken_languages\n",
      "status\n",
      "tagline\n",
      "title\n",
      "vote_average\n",
      "vote_count\n"
     ]
    }
   ],
   "source": [
    "movies = pd.read_csv('../input/tmdb-movie-metadata/tmdb_5000_movies.csv')\n",
    "print(movies.head(3))\n",
    "print(movies.shape)\n",
    "for i in movies.columns:\n",
    "    print(i)"
   ]
  },
  {
   "cell_type": "code",
   "execution_count": 4,
   "id": "a28c384a",
   "metadata": {
    "execution": {
     "iopub.execute_input": "2021-12-13T19:00:21.484256Z",
     "iopub.status.busy": "2021-12-13T19:00:21.483528Z",
     "iopub.status.idle": "2021-12-13T19:00:21.507229Z",
     "shell.execute_reply": "2021-12-13T19:00:21.506542Z",
     "shell.execute_reply.started": "2021-12-13T18:58:36.651288Z"
    },
    "id": "gOn7-3Q1Ag3Q",
    "papermill": {
     "duration": 0.07034,
     "end_time": "2021-12-13T19:00:21.507401",
     "exception": false,
     "start_time": "2021-12-13T19:00:21.437061",
     "status": "completed"
    },
    "tags": []
   },
   "outputs": [],
   "source": [
    "# Merging movies and credits dataframe on title and storing in another dataframe\n",
    "movies = movies.merge(credits,on='title')"
   ]
  },
  {
   "cell_type": "code",
   "execution_count": 5,
   "id": "59817fb9",
   "metadata": {
    "execution": {
     "iopub.execute_input": "2021-12-13T19:00:21.583925Z",
     "iopub.status.busy": "2021-12-13T19:00:21.583126Z",
     "iopub.status.idle": "2021-12-13T19:00:21.586308Z",
     "shell.execute_reply": "2021-12-13T19:00:21.586848Z",
     "shell.execute_reply.started": "2021-12-13T18:58:36.684822Z"
    },
    "id": "vE_-Ics6AqUI",
    "outputId": "fff36a90-851b-4c79-9f08-cba03f85c512",
    "papermill": {
     "duration": 0.045041,
     "end_time": "2021-12-13T19:00:21.587053",
     "exception": false,
     "start_time": "2021-12-13T19:00:21.542012",
     "status": "completed"
    },
    "tags": []
   },
   "outputs": [
    {
     "data": {
      "text/plain": [
       "Index(['budget', 'genres', 'homepage', 'id', 'keywords', 'original_language',\n",
       "       'original_title', 'overview', 'popularity', 'production_companies',\n",
       "       'production_countries', 'release_date', 'revenue', 'runtime',\n",
       "       'spoken_languages', 'status', 'tagline', 'title', 'vote_average',\n",
       "       'vote_count', 'movie_id', 'cast', 'crew'],\n",
       "      dtype='object')"
      ]
     },
     "execution_count": 5,
     "metadata": {},
     "output_type": "execute_result"
    }
   ],
   "source": [
    "movies.columns"
   ]
  },
  {
   "cell_type": "code",
   "execution_count": 6,
   "id": "7d03be97",
   "metadata": {
    "execution": {
     "iopub.execute_input": "2021-12-13T19:00:21.659912Z",
     "iopub.status.busy": "2021-12-13T19:00:21.657101Z",
     "iopub.status.idle": "2021-12-13T19:00:21.666766Z",
     "shell.execute_reply": "2021-12-13T19:00:21.667335Z",
     "shell.execute_reply.started": "2021-12-13T18:58:36.695260Z"
    },
    "id": "lpjVwid8_nmD",
    "papermill": {
     "duration": 0.046798,
     "end_time": "2021-12-13T19:00:21.667528",
     "exception": false,
     "start_time": "2021-12-13T19:00:21.620730",
     "status": "completed"
    },
    "tags": []
   },
   "outputs": [],
   "source": [
    "# # Selecting the features we want to use for our recommender system\n",
    "movies = movies[['movie_id','title','overview','genres','keywords','cast','crew']]"
   ]
  },
  {
   "cell_type": "code",
   "execution_count": 7,
   "id": "22e6c218",
   "metadata": {
    "execution": {
     "iopub.execute_input": "2021-12-13T19:00:21.737694Z",
     "iopub.status.busy": "2021-12-13T19:00:21.736962Z",
     "iopub.status.idle": "2021-12-13T19:00:21.758335Z",
     "shell.execute_reply": "2021-12-13T19:00:21.757630Z",
     "shell.execute_reply.started": "2021-12-13T18:58:36.709787Z"
    },
    "id": "QSR-wbAXAv4g",
    "outputId": "1f38fc12-5ff1-454a-b1bd-962fd12df025",
    "papermill": {
     "duration": 0.056961,
     "end_time": "2021-12-13T19:00:21.758503",
     "exception": false,
     "start_time": "2021-12-13T19:00:21.701542",
     "status": "completed"
    },
    "tags": []
   },
   "outputs": [
    {
     "data": {
      "text/html": [
       "<div>\n",
       "<style scoped>\n",
       "    .dataframe tbody tr th:only-of-type {\n",
       "        vertical-align: middle;\n",
       "    }\n",
       "\n",
       "    .dataframe tbody tr th {\n",
       "        vertical-align: top;\n",
       "    }\n",
       "\n",
       "    .dataframe thead th {\n",
       "        text-align: right;\n",
       "    }\n",
       "</style>\n",
       "<table border=\"1\" class=\"dataframe\">\n",
       "  <thead>\n",
       "    <tr style=\"text-align: right;\">\n",
       "      <th></th>\n",
       "      <th>movie_id</th>\n",
       "      <th>title</th>\n",
       "      <th>overview</th>\n",
       "      <th>genres</th>\n",
       "      <th>keywords</th>\n",
       "      <th>cast</th>\n",
       "      <th>crew</th>\n",
       "    </tr>\n",
       "  </thead>\n",
       "  <tbody>\n",
       "    <tr>\n",
       "      <th>0</th>\n",
       "      <td>19995</td>\n",
       "      <td>Avatar</td>\n",
       "      <td>In the 22nd century, a paraplegic Marine is di...</td>\n",
       "      <td>[{\"id\": 28, \"name\": \"Action\"}, {\"id\": 12, \"nam...</td>\n",
       "      <td>[{\"id\": 1463, \"name\": \"culture clash\"}, {\"id\":...</td>\n",
       "      <td>[{\"cast_id\": 242, \"character\": \"Jake Sully\", \"...</td>\n",
       "      <td>[{\"credit_id\": \"52fe48009251416c750aca23\", \"de...</td>\n",
       "    </tr>\n",
       "    <tr>\n",
       "      <th>1</th>\n",
       "      <td>285</td>\n",
       "      <td>Pirates of the Caribbean: At World's End</td>\n",
       "      <td>Captain Barbossa, long believed to be dead, ha...</td>\n",
       "      <td>[{\"id\": 12, \"name\": \"Adventure\"}, {\"id\": 14, \"...</td>\n",
       "      <td>[{\"id\": 270, \"name\": \"ocean\"}, {\"id\": 726, \"na...</td>\n",
       "      <td>[{\"cast_id\": 4, \"character\": \"Captain Jack Spa...</td>\n",
       "      <td>[{\"credit_id\": \"52fe4232c3a36847f800b579\", \"de...</td>\n",
       "    </tr>\n",
       "    <tr>\n",
       "      <th>2</th>\n",
       "      <td>206647</td>\n",
       "      <td>Spectre</td>\n",
       "      <td>A cryptic message from Bond’s past sends him o...</td>\n",
       "      <td>[{\"id\": 28, \"name\": \"Action\"}, {\"id\": 12, \"nam...</td>\n",
       "      <td>[{\"id\": 470, \"name\": \"spy\"}, {\"id\": 818, \"name...</td>\n",
       "      <td>[{\"cast_id\": 1, \"character\": \"James Bond\", \"cr...</td>\n",
       "      <td>[{\"credit_id\": \"54805967c3a36829b5002c41\", \"de...</td>\n",
       "    </tr>\n",
       "    <tr>\n",
       "      <th>3</th>\n",
       "      <td>49026</td>\n",
       "      <td>The Dark Knight Rises</td>\n",
       "      <td>Following the death of District Attorney Harve...</td>\n",
       "      <td>[{\"id\": 28, \"name\": \"Action\"}, {\"id\": 80, \"nam...</td>\n",
       "      <td>[{\"id\": 849, \"name\": \"dc comics\"}, {\"id\": 853,...</td>\n",
       "      <td>[{\"cast_id\": 2, \"character\": \"Bruce Wayne / Ba...</td>\n",
       "      <td>[{\"credit_id\": \"52fe4781c3a36847f81398c3\", \"de...</td>\n",
       "    </tr>\n",
       "    <tr>\n",
       "      <th>4</th>\n",
       "      <td>49529</td>\n",
       "      <td>John Carter</td>\n",
       "      <td>John Carter is a war-weary, former military ca...</td>\n",
       "      <td>[{\"id\": 28, \"name\": \"Action\"}, {\"id\": 12, \"nam...</td>\n",
       "      <td>[{\"id\": 818, \"name\": \"based on novel\"}, {\"id\":...</td>\n",
       "      <td>[{\"cast_id\": 5, \"character\": \"John Carter\", \"c...</td>\n",
       "      <td>[{\"credit_id\": \"52fe479ac3a36847f813eaa3\", \"de...</td>\n",
       "    </tr>\n",
       "    <tr>\n",
       "      <th>...</th>\n",
       "      <td>...</td>\n",
       "      <td>...</td>\n",
       "      <td>...</td>\n",
       "      <td>...</td>\n",
       "      <td>...</td>\n",
       "      <td>...</td>\n",
       "      <td>...</td>\n",
       "    </tr>\n",
       "    <tr>\n",
       "      <th>4804</th>\n",
       "      <td>9367</td>\n",
       "      <td>El Mariachi</td>\n",
       "      <td>El Mariachi just wants to play his guitar and ...</td>\n",
       "      <td>[{\"id\": 28, \"name\": \"Action\"}, {\"id\": 80, \"nam...</td>\n",
       "      <td>[{\"id\": 5616, \"name\": \"united states\\u2013mexi...</td>\n",
       "      <td>[{\"cast_id\": 1, \"character\": \"El Mariachi\", \"c...</td>\n",
       "      <td>[{\"credit_id\": \"52fe44eec3a36847f80b280b\", \"de...</td>\n",
       "    </tr>\n",
       "    <tr>\n",
       "      <th>4805</th>\n",
       "      <td>72766</td>\n",
       "      <td>Newlyweds</td>\n",
       "      <td>A newlywed couple's honeymoon is upended by th...</td>\n",
       "      <td>[{\"id\": 35, \"name\": \"Comedy\"}, {\"id\": 10749, \"...</td>\n",
       "      <td>[]</td>\n",
       "      <td>[{\"cast_id\": 1, \"character\": \"Buzzy\", \"credit_...</td>\n",
       "      <td>[{\"credit_id\": \"52fe487dc3a368484e0fb013\", \"de...</td>\n",
       "    </tr>\n",
       "    <tr>\n",
       "      <th>4806</th>\n",
       "      <td>231617</td>\n",
       "      <td>Signed, Sealed, Delivered</td>\n",
       "      <td>\"Signed, Sealed, Delivered\" introduces a dedic...</td>\n",
       "      <td>[{\"id\": 35, \"name\": \"Comedy\"}, {\"id\": 18, \"nam...</td>\n",
       "      <td>[{\"id\": 248, \"name\": \"date\"}, {\"id\": 699, \"nam...</td>\n",
       "      <td>[{\"cast_id\": 8, \"character\": \"Oliver O\\u2019To...</td>\n",
       "      <td>[{\"credit_id\": \"52fe4df3c3a36847f8275ecf\", \"de...</td>\n",
       "    </tr>\n",
       "    <tr>\n",
       "      <th>4807</th>\n",
       "      <td>126186</td>\n",
       "      <td>Shanghai Calling</td>\n",
       "      <td>When ambitious New York attorney Sam is sent t...</td>\n",
       "      <td>[]</td>\n",
       "      <td>[]</td>\n",
       "      <td>[{\"cast_id\": 3, \"character\": \"Sam\", \"credit_id...</td>\n",
       "      <td>[{\"credit_id\": \"52fe4ad9c3a368484e16a36b\", \"de...</td>\n",
       "    </tr>\n",
       "    <tr>\n",
       "      <th>4808</th>\n",
       "      <td>25975</td>\n",
       "      <td>My Date with Drew</td>\n",
       "      <td>Ever since the second grade when he first saw ...</td>\n",
       "      <td>[{\"id\": 99, \"name\": \"Documentary\"}]</td>\n",
       "      <td>[{\"id\": 1523, \"name\": \"obsession\"}, {\"id\": 224...</td>\n",
       "      <td>[{\"cast_id\": 3, \"character\": \"Herself\", \"credi...</td>\n",
       "      <td>[{\"credit_id\": \"58ce021b9251415a390165d9\", \"de...</td>\n",
       "    </tr>\n",
       "  </tbody>\n",
       "</table>\n",
       "<p>4809 rows × 7 columns</p>\n",
       "</div>"
      ],
      "text/plain": [
       "      movie_id                                     title  \\\n",
       "0        19995                                    Avatar   \n",
       "1          285  Pirates of the Caribbean: At World's End   \n",
       "2       206647                                   Spectre   \n",
       "3        49026                     The Dark Knight Rises   \n",
       "4        49529                               John Carter   \n",
       "...        ...                                       ...   \n",
       "4804      9367                               El Mariachi   \n",
       "4805     72766                                 Newlyweds   \n",
       "4806    231617                 Signed, Sealed, Delivered   \n",
       "4807    126186                          Shanghai Calling   \n",
       "4808     25975                         My Date with Drew   \n",
       "\n",
       "                                               overview  \\\n",
       "0     In the 22nd century, a paraplegic Marine is di...   \n",
       "1     Captain Barbossa, long believed to be dead, ha...   \n",
       "2     A cryptic message from Bond’s past sends him o...   \n",
       "3     Following the death of District Attorney Harve...   \n",
       "4     John Carter is a war-weary, former military ca...   \n",
       "...                                                 ...   \n",
       "4804  El Mariachi just wants to play his guitar and ...   \n",
       "4805  A newlywed couple's honeymoon is upended by th...   \n",
       "4806  \"Signed, Sealed, Delivered\" introduces a dedic...   \n",
       "4807  When ambitious New York attorney Sam is sent t...   \n",
       "4808  Ever since the second grade when he first saw ...   \n",
       "\n",
       "                                                 genres  \\\n",
       "0     [{\"id\": 28, \"name\": \"Action\"}, {\"id\": 12, \"nam...   \n",
       "1     [{\"id\": 12, \"name\": \"Adventure\"}, {\"id\": 14, \"...   \n",
       "2     [{\"id\": 28, \"name\": \"Action\"}, {\"id\": 12, \"nam...   \n",
       "3     [{\"id\": 28, \"name\": \"Action\"}, {\"id\": 80, \"nam...   \n",
       "4     [{\"id\": 28, \"name\": \"Action\"}, {\"id\": 12, \"nam...   \n",
       "...                                                 ...   \n",
       "4804  [{\"id\": 28, \"name\": \"Action\"}, {\"id\": 80, \"nam...   \n",
       "4805  [{\"id\": 35, \"name\": \"Comedy\"}, {\"id\": 10749, \"...   \n",
       "4806  [{\"id\": 35, \"name\": \"Comedy\"}, {\"id\": 18, \"nam...   \n",
       "4807                                                 []   \n",
       "4808                [{\"id\": 99, \"name\": \"Documentary\"}]   \n",
       "\n",
       "                                               keywords  \\\n",
       "0     [{\"id\": 1463, \"name\": \"culture clash\"}, {\"id\":...   \n",
       "1     [{\"id\": 270, \"name\": \"ocean\"}, {\"id\": 726, \"na...   \n",
       "2     [{\"id\": 470, \"name\": \"spy\"}, {\"id\": 818, \"name...   \n",
       "3     [{\"id\": 849, \"name\": \"dc comics\"}, {\"id\": 853,...   \n",
       "4     [{\"id\": 818, \"name\": \"based on novel\"}, {\"id\":...   \n",
       "...                                                 ...   \n",
       "4804  [{\"id\": 5616, \"name\": \"united states\\u2013mexi...   \n",
       "4805                                                 []   \n",
       "4806  [{\"id\": 248, \"name\": \"date\"}, {\"id\": 699, \"nam...   \n",
       "4807                                                 []   \n",
       "4808  [{\"id\": 1523, \"name\": \"obsession\"}, {\"id\": 224...   \n",
       "\n",
       "                                                   cast  \\\n",
       "0     [{\"cast_id\": 242, \"character\": \"Jake Sully\", \"...   \n",
       "1     [{\"cast_id\": 4, \"character\": \"Captain Jack Spa...   \n",
       "2     [{\"cast_id\": 1, \"character\": \"James Bond\", \"cr...   \n",
       "3     [{\"cast_id\": 2, \"character\": \"Bruce Wayne / Ba...   \n",
       "4     [{\"cast_id\": 5, \"character\": \"John Carter\", \"c...   \n",
       "...                                                 ...   \n",
       "4804  [{\"cast_id\": 1, \"character\": \"El Mariachi\", \"c...   \n",
       "4805  [{\"cast_id\": 1, \"character\": \"Buzzy\", \"credit_...   \n",
       "4806  [{\"cast_id\": 8, \"character\": \"Oliver O\\u2019To...   \n",
       "4807  [{\"cast_id\": 3, \"character\": \"Sam\", \"credit_id...   \n",
       "4808  [{\"cast_id\": 3, \"character\": \"Herself\", \"credi...   \n",
       "\n",
       "                                                   crew  \n",
       "0     [{\"credit_id\": \"52fe48009251416c750aca23\", \"de...  \n",
       "1     [{\"credit_id\": \"52fe4232c3a36847f800b579\", \"de...  \n",
       "2     [{\"credit_id\": \"54805967c3a36829b5002c41\", \"de...  \n",
       "3     [{\"credit_id\": \"52fe4781c3a36847f81398c3\", \"de...  \n",
       "4     [{\"credit_id\": \"52fe479ac3a36847f813eaa3\", \"de...  \n",
       "...                                                 ...  \n",
       "4804  [{\"credit_id\": \"52fe44eec3a36847f80b280b\", \"de...  \n",
       "4805  [{\"credit_id\": \"52fe487dc3a368484e0fb013\", \"de...  \n",
       "4806  [{\"credit_id\": \"52fe4df3c3a36847f8275ecf\", \"de...  \n",
       "4807  [{\"credit_id\": \"52fe4ad9c3a368484e16a36b\", \"de...  \n",
       "4808  [{\"credit_id\": \"58ce021b9251415a390165d9\", \"de...  \n",
       "\n",
       "[4809 rows x 7 columns]"
      ]
     },
     "execution_count": 7,
     "metadata": {},
     "output_type": "execute_result"
    }
   ],
   "source": [
    "movies = pd.DataFrame(movies)\n",
    "movies"
   ]
  },
  {
   "cell_type": "code",
   "execution_count": 8,
   "id": "ab8fd066",
   "metadata": {
    "execution": {
     "iopub.execute_input": "2021-12-13T19:00:21.840153Z",
     "iopub.status.busy": "2021-12-13T19:00:21.839241Z",
     "iopub.status.idle": "2021-12-13T19:00:21.843504Z",
     "shell.execute_reply": "2021-12-13T19:00:21.844018Z",
     "shell.execute_reply.started": "2021-12-13T18:58:36.733128Z"
    },
    "id": "6Z4O2lIYCQEv",
    "outputId": "282dc913-f16e-4458-ece8-a94894c1cadf",
    "papermill": {
     "duration": 0.051294,
     "end_time": "2021-12-13T19:00:21.844203",
     "exception": false,
     "start_time": "2021-12-13T19:00:21.792909",
     "status": "completed"
    },
    "tags": []
   },
   "outputs": [
    {
     "data": {
      "text/plain": [
       "movie_id    0\n",
       "title       0\n",
       "overview    3\n",
       "genres      0\n",
       "keywords    0\n",
       "cast        0\n",
       "crew        0\n",
       "dtype: int64"
      ]
     },
     "execution_count": 8,
     "metadata": {},
     "output_type": "execute_result"
    }
   ],
   "source": [
    "movies.isnull().sum()"
   ]
  },
  {
   "cell_type": "code",
   "execution_count": 9,
   "id": "e44cdae8",
   "metadata": {
    "execution": {
     "iopub.execute_input": "2021-12-13T19:00:21.922891Z",
     "iopub.status.busy": "2021-12-13T19:00:21.922126Z",
     "iopub.status.idle": "2021-12-13T19:00:21.927359Z",
     "shell.execute_reply": "2021-12-13T19:00:21.926822Z",
     "shell.execute_reply.started": "2021-12-13T18:58:36.748638Z"
    },
    "id": "2gUOsf0jCWB2",
    "papermill": {
     "duration": 0.049384,
     "end_time": "2021-12-13T19:00:21.927511",
     "exception": false,
     "start_time": "2021-12-13T19:00:21.878127",
     "status": "completed"
    },
    "tags": []
   },
   "outputs": [],
   "source": [
    "movies.dropna(inplace=True)"
   ]
  },
  {
   "cell_type": "code",
   "execution_count": 10,
   "id": "a174fb5f",
   "metadata": {
    "execution": {
     "iopub.execute_input": "2021-12-13T19:00:21.998172Z",
     "iopub.status.busy": "2021-12-13T19:00:21.997435Z",
     "iopub.status.idle": "2021-12-13T19:00:22.106154Z",
     "shell.execute_reply": "2021-12-13T19:00:22.105608Z",
     "shell.execute_reply.started": "2021-12-13T18:58:36.765741Z"
    },
    "id": "QW8oNTHmCfR2",
    "outputId": "fea2b854-7c8b-4774-b749-f091eb53c2a5",
    "papermill": {
     "duration": 0.145071,
     "end_time": "2021-12-13T19:00:22.106291",
     "exception": false,
     "start_time": "2021-12-13T19:00:21.961220",
     "status": "completed"
    },
    "tags": []
   },
   "outputs": [
    {
     "data": {
      "text/plain": [
       "0"
      ]
     },
     "execution_count": 10,
     "metadata": {},
     "output_type": "execute_result"
    }
   ],
   "source": [
    "movies.duplicated().sum()"
   ]
  },
  {
   "cell_type": "code",
   "execution_count": 11,
   "id": "3e5df84d",
   "metadata": {
    "execution": {
     "iopub.execute_input": "2021-12-13T19:00:22.178610Z",
     "iopub.status.busy": "2021-12-13T19:00:22.177844Z",
     "iopub.status.idle": "2021-12-13T19:00:22.183055Z",
     "shell.execute_reply": "2021-12-13T19:00:22.182536Z",
     "shell.execute_reply.started": "2021-12-13T18:58:36.879516Z"
    },
    "id": "ceSDgDIXBo8m",
    "papermill": {
     "duration": 0.042735,
     "end_time": "2021-12-13T19:00:22.183199",
     "exception": false,
     "start_time": "2021-12-13T19:00:22.140464",
     "status": "completed"
    },
    "tags": []
   },
   "outputs": [],
   "source": [
    "import ast\n",
    "def find(text):\n",
    "  L = []\n",
    "  for i in ast.literal_eval(text):\n",
    "    L.append(i['name'])\n",
    "  return L"
   ]
  },
  {
   "cell_type": "code",
   "execution_count": 12,
   "id": "a708f173",
   "metadata": {
    "execution": {
     "iopub.execute_input": "2021-12-13T19:00:22.263219Z",
     "iopub.status.busy": "2021-12-13T19:00:22.262541Z",
     "iopub.status.idle": "2021-12-13T19:00:22.432943Z",
     "shell.execute_reply": "2021-12-13T19:00:22.432234Z",
     "shell.execute_reply.started": "2021-12-13T18:58:36.886859Z"
    },
    "id": "m2L_Qs4vCMRV",
    "outputId": "785fc4b9-4604-4cfb-a63f-eb23aac9b44b",
    "papermill": {
     "duration": 0.214911,
     "end_time": "2021-12-13T19:00:22.433093",
     "exception": false,
     "start_time": "2021-12-13T19:00:22.218182",
     "status": "completed"
    },
    "tags": []
   },
   "outputs": [],
   "source": [
    "movies['genres'] = movies['genres'].apply(find)"
   ]
  },
  {
   "cell_type": "code",
   "execution_count": 13,
   "id": "a3e49dd9",
   "metadata": {
    "execution": {
     "iopub.execute_input": "2021-12-13T19:00:22.512834Z",
     "iopub.status.busy": "2021-12-13T19:00:22.512054Z",
     "iopub.status.idle": "2021-12-13T19:00:22.523747Z",
     "shell.execute_reply": "2021-12-13T19:00:22.524270Z",
     "shell.execute_reply.started": "2021-12-13T18:58:37.027371Z"
    },
    "id": "9QFRNMICDfUQ",
    "outputId": "69147d28-7ad9-48d2-f237-8d0d5c08e1fc",
    "papermill": {
     "duration": 0.055448,
     "end_time": "2021-12-13T19:00:22.524473",
     "exception": false,
     "start_time": "2021-12-13T19:00:22.469025",
     "status": "completed"
    },
    "tags": []
   },
   "outputs": [
    {
     "data": {
      "text/html": [
       "<div>\n",
       "<style scoped>\n",
       "    .dataframe tbody tr th:only-of-type {\n",
       "        vertical-align: middle;\n",
       "    }\n",
       "\n",
       "    .dataframe tbody tr th {\n",
       "        vertical-align: top;\n",
       "    }\n",
       "\n",
       "    .dataframe thead th {\n",
       "        text-align: right;\n",
       "    }\n",
       "</style>\n",
       "<table border=\"1\" class=\"dataframe\">\n",
       "  <thead>\n",
       "    <tr style=\"text-align: right;\">\n",
       "      <th></th>\n",
       "      <th>movie_id</th>\n",
       "      <th>title</th>\n",
       "      <th>overview</th>\n",
       "      <th>genres</th>\n",
       "      <th>keywords</th>\n",
       "      <th>cast</th>\n",
       "      <th>crew</th>\n",
       "    </tr>\n",
       "  </thead>\n",
       "  <tbody>\n",
       "    <tr>\n",
       "      <th>0</th>\n",
       "      <td>19995</td>\n",
       "      <td>Avatar</td>\n",
       "      <td>In the 22nd century, a paraplegic Marine is di...</td>\n",
       "      <td>[Action, Adventure, Fantasy, Science Fiction]</td>\n",
       "      <td>[{\"id\": 1463, \"name\": \"culture clash\"}, {\"id\":...</td>\n",
       "      <td>[{\"cast_id\": 242, \"character\": \"Jake Sully\", \"...</td>\n",
       "      <td>[{\"credit_id\": \"52fe48009251416c750aca23\", \"de...</td>\n",
       "    </tr>\n",
       "    <tr>\n",
       "      <th>1</th>\n",
       "      <td>285</td>\n",
       "      <td>Pirates of the Caribbean: At World's End</td>\n",
       "      <td>Captain Barbossa, long believed to be dead, ha...</td>\n",
       "      <td>[Adventure, Fantasy, Action]</td>\n",
       "      <td>[{\"id\": 270, \"name\": \"ocean\"}, {\"id\": 726, \"na...</td>\n",
       "      <td>[{\"cast_id\": 4, \"character\": \"Captain Jack Spa...</td>\n",
       "      <td>[{\"credit_id\": \"52fe4232c3a36847f800b579\", \"de...</td>\n",
       "    </tr>\n",
       "    <tr>\n",
       "      <th>2</th>\n",
       "      <td>206647</td>\n",
       "      <td>Spectre</td>\n",
       "      <td>A cryptic message from Bond’s past sends him o...</td>\n",
       "      <td>[Action, Adventure, Crime]</td>\n",
       "      <td>[{\"id\": 470, \"name\": \"spy\"}, {\"id\": 818, \"name...</td>\n",
       "      <td>[{\"cast_id\": 1, \"character\": \"James Bond\", \"cr...</td>\n",
       "      <td>[{\"credit_id\": \"54805967c3a36829b5002c41\", \"de...</td>\n",
       "    </tr>\n",
       "    <tr>\n",
       "      <th>3</th>\n",
       "      <td>49026</td>\n",
       "      <td>The Dark Knight Rises</td>\n",
       "      <td>Following the death of District Attorney Harve...</td>\n",
       "      <td>[Action, Crime, Drama, Thriller]</td>\n",
       "      <td>[{\"id\": 849, \"name\": \"dc comics\"}, {\"id\": 853,...</td>\n",
       "      <td>[{\"cast_id\": 2, \"character\": \"Bruce Wayne / Ba...</td>\n",
       "      <td>[{\"credit_id\": \"52fe4781c3a36847f81398c3\", \"de...</td>\n",
       "    </tr>\n",
       "    <tr>\n",
       "      <th>4</th>\n",
       "      <td>49529</td>\n",
       "      <td>John Carter</td>\n",
       "      <td>John Carter is a war-weary, former military ca...</td>\n",
       "      <td>[Action, Adventure, Science Fiction]</td>\n",
       "      <td>[{\"id\": 818, \"name\": \"based on novel\"}, {\"id\":...</td>\n",
       "      <td>[{\"cast_id\": 5, \"character\": \"John Carter\", \"c...</td>\n",
       "      <td>[{\"credit_id\": \"52fe479ac3a36847f813eaa3\", \"de...</td>\n",
       "    </tr>\n",
       "  </tbody>\n",
       "</table>\n",
       "</div>"
      ],
      "text/plain": [
       "   movie_id                                     title  \\\n",
       "0     19995                                    Avatar   \n",
       "1       285  Pirates of the Caribbean: At World's End   \n",
       "2    206647                                   Spectre   \n",
       "3     49026                     The Dark Knight Rises   \n",
       "4     49529                               John Carter   \n",
       "\n",
       "                                            overview  \\\n",
       "0  In the 22nd century, a paraplegic Marine is di...   \n",
       "1  Captain Barbossa, long believed to be dead, ha...   \n",
       "2  A cryptic message from Bond’s past sends him o...   \n",
       "3  Following the death of District Attorney Harve...   \n",
       "4  John Carter is a war-weary, former military ca...   \n",
       "\n",
       "                                          genres  \\\n",
       "0  [Action, Adventure, Fantasy, Science Fiction]   \n",
       "1                   [Adventure, Fantasy, Action]   \n",
       "2                     [Action, Adventure, Crime]   \n",
       "3               [Action, Crime, Drama, Thriller]   \n",
       "4           [Action, Adventure, Science Fiction]   \n",
       "\n",
       "                                            keywords  \\\n",
       "0  [{\"id\": 1463, \"name\": \"culture clash\"}, {\"id\":...   \n",
       "1  [{\"id\": 270, \"name\": \"ocean\"}, {\"id\": 726, \"na...   \n",
       "2  [{\"id\": 470, \"name\": \"spy\"}, {\"id\": 818, \"name...   \n",
       "3  [{\"id\": 849, \"name\": \"dc comics\"}, {\"id\": 853,...   \n",
       "4  [{\"id\": 818, \"name\": \"based on novel\"}, {\"id\":...   \n",
       "\n",
       "                                                cast  \\\n",
       "0  [{\"cast_id\": 242, \"character\": \"Jake Sully\", \"...   \n",
       "1  [{\"cast_id\": 4, \"character\": \"Captain Jack Spa...   \n",
       "2  [{\"cast_id\": 1, \"character\": \"James Bond\", \"cr...   \n",
       "3  [{\"cast_id\": 2, \"character\": \"Bruce Wayne / Ba...   \n",
       "4  [{\"cast_id\": 5, \"character\": \"John Carter\", \"c...   \n",
       "\n",
       "                                                crew  \n",
       "0  [{\"credit_id\": \"52fe48009251416c750aca23\", \"de...  \n",
       "1  [{\"credit_id\": \"52fe4232c3a36847f800b579\", \"de...  \n",
       "2  [{\"credit_id\": \"54805967c3a36829b5002c41\", \"de...  \n",
       "3  [{\"credit_id\": \"52fe4781c3a36847f81398c3\", \"de...  \n",
       "4  [{\"credit_id\": \"52fe479ac3a36847f813eaa3\", \"de...  "
      ]
     },
     "execution_count": 13,
     "metadata": {},
     "output_type": "execute_result"
    }
   ],
   "source": [
    "movies.head(5)"
   ]
  },
  {
   "cell_type": "code",
   "execution_count": 14,
   "id": "cb7c8804",
   "metadata": {
    "execution": {
     "iopub.execute_input": "2021-12-13T19:00:22.599250Z",
     "iopub.status.busy": "2021-12-13T19:00:22.598534Z",
     "iopub.status.idle": "2021-12-13T19:00:23.030622Z",
     "shell.execute_reply": "2021-12-13T19:00:23.030014Z",
     "shell.execute_reply.started": "2021-12-13T18:58:37.045158Z"
    },
    "id": "eR4tEqM0DugY",
    "outputId": "91770270-9af3-4fb0-ddc3-9647eadd3520",
    "papermill": {
     "duration": 0.470465,
     "end_time": "2021-12-13T19:00:23.030780",
     "exception": false,
     "start_time": "2021-12-13T19:00:22.560315",
     "status": "completed"
    },
    "tags": []
   },
   "outputs": [],
   "source": [
    "movies['keywords'] = movies['keywords'].apply(find)"
   ]
  },
  {
   "cell_type": "code",
   "execution_count": 15,
   "id": "5b5d89f3",
   "metadata": {
    "execution": {
     "iopub.execute_input": "2021-12-13T19:00:23.110049Z",
     "iopub.status.busy": "2021-12-13T19:00:23.109276Z",
     "iopub.status.idle": "2021-12-13T19:00:23.111867Z",
     "shell.execute_reply": "2021-12-13T19:00:23.112460Z",
     "shell.execute_reply.started": "2021-12-13T18:58:37.398800Z"
    },
    "id": "4Fx54NqND69M",
    "outputId": "9b51f815-b7fe-43e8-8e04-ae7c9ab6073b",
    "papermill": {
     "duration": 0.047158,
     "end_time": "2021-12-13T19:00:23.112642",
     "exception": false,
     "start_time": "2021-12-13T19:00:23.065484",
     "status": "completed"
    },
    "tags": []
   },
   "outputs": [
    {
     "data": {
      "text/plain": [
       "0       [culture clash, future, space war, space colon...\n",
       "1       [ocean, drug abuse, exotic island, east india ...\n",
       "2       [spy, based on novel, secret agent, sequel, mi...\n",
       "3       [dc comics, crime fighter, terrorist, secret i...\n",
       "4       [based on novel, mars, medallion, space travel...\n",
       "                              ...                        \n",
       "4804    [united states–mexico barrier, legs, arms, pap...\n",
       "4805                                                   []\n",
       "4806    [date, love at first sight, narration, investi...\n",
       "4807                                                   []\n",
       "4808            [obsession, camcorder, crush, dream girl]\n",
       "Name: keywords, Length: 4806, dtype: object"
      ]
     },
     "execution_count": 15,
     "metadata": {},
     "output_type": "execute_result"
    }
   ],
   "source": [
    "movies['keywords']"
   ]
  },
  {
   "cell_type": "code",
   "execution_count": 16,
   "id": "a83206e3",
   "metadata": {
    "execution": {
     "iopub.execute_input": "2021-12-13T19:00:23.188270Z",
     "iopub.status.busy": "2021-12-13T19:00:23.185380Z",
     "iopub.status.idle": "2021-12-13T19:00:23.191721Z",
     "shell.execute_reply": "2021-12-13T19:00:23.191173Z",
     "shell.execute_reply.started": "2021-12-13T18:58:37.409858Z"
    },
    "id": "B3tAI6EvESge",
    "papermill": {
     "duration": 0.044046,
     "end_time": "2021-12-13T19:00:23.191866",
     "exception": false,
     "start_time": "2021-12-13T19:00:23.147820",
     "status": "completed"
    },
    "tags": []
   },
   "outputs": [],
   "source": [
    "def find2(text):\n",
    "    L = []\n",
    "    counter = 0\n",
    "    for i in ast.literal_eval(text):\n",
    "        if counter < 4:\n",
    "            L.append(i['name'])\n",
    "        counter+=1\n",
    "    return L "
   ]
  },
  {
   "cell_type": "code",
   "execution_count": 17,
   "id": "98fdc162",
   "metadata": {
    "execution": {
     "iopub.execute_input": "2021-12-13T19:00:23.304859Z",
     "iopub.status.busy": "2021-12-13T19:00:23.299084Z",
     "iopub.status.idle": "2021-12-13T19:00:26.672143Z",
     "shell.execute_reply": "2021-12-13T19:00:26.672674Z",
     "shell.execute_reply.started": "2021-12-13T18:58:37.419992Z"
    },
    "id": "r5tCnJBjEqs7",
    "papermill": {
     "duration": 3.445741,
     "end_time": "2021-12-13T19:00:26.672871",
     "exception": false,
     "start_time": "2021-12-13T19:00:23.227130",
     "status": "completed"
    },
    "tags": []
   },
   "outputs": [],
   "source": [
    "movies['cast'] = movies['cast'].apply(find2)"
   ]
  },
  {
   "cell_type": "code",
   "execution_count": 18,
   "id": "60975655",
   "metadata": {
    "execution": {
     "iopub.execute_input": "2021-12-13T19:00:26.752590Z",
     "iopub.status.busy": "2021-12-13T19:00:26.751816Z",
     "iopub.status.idle": "2021-12-13T19:00:26.754618Z",
     "shell.execute_reply": "2021-12-13T19:00:26.755251Z",
     "shell.execute_reply.started": "2021-12-13T18:58:40.293460Z"
    },
    "id": "VSsXduvREwNE",
    "outputId": "6a283ff8-f451-4b14-d226-d72eb5d327e8",
    "papermill": {
     "duration": 0.046906,
     "end_time": "2021-12-13T19:00:26.755430",
     "exception": false,
     "start_time": "2021-12-13T19:00:26.708524",
     "status": "completed"
    },
    "tags": []
   },
   "outputs": [
    {
     "data": {
      "text/plain": [
       "0       [Sam Worthington, Zoe Saldana, Sigourney Weave...\n",
       "1       [Johnny Depp, Orlando Bloom, Keira Knightley, ...\n",
       "2       [Daniel Craig, Christoph Waltz, Léa Seydoux, R...\n",
       "3       [Christian Bale, Michael Caine, Gary Oldman, A...\n",
       "4       [Taylor Kitsch, Lynn Collins, Samantha Morton,...\n",
       "                              ...                        \n",
       "4804    [Carlos Gallardo, Jaime de Hoyos, Peter Marqua...\n",
       "4805    [Edward Burns, Kerry Bishé, Marsha Dietlein, C...\n",
       "4806    [Eric Mabius, Kristin Booth, Crystal Lowe, Geo...\n",
       "4807    [Daniel Henney, Eliza Coupe, Bill Paxton, Alan...\n",
       "4808    [Drew Barrymore, Brian Herzlinger, Corey Feldm...\n",
       "Name: cast, Length: 4806, dtype: object"
      ]
     },
     "execution_count": 18,
     "metadata": {},
     "output_type": "execute_result"
    }
   ],
   "source": [
    "movies['cast']"
   ]
  },
  {
   "cell_type": "code",
   "execution_count": 19,
   "id": "4c6e563b",
   "metadata": {
    "execution": {
     "iopub.execute_input": "2021-12-13T19:00:26.832856Z",
     "iopub.status.busy": "2021-12-13T19:00:26.832044Z",
     "iopub.status.idle": "2021-12-13T19:00:26.836501Z",
     "shell.execute_reply": "2021-12-13T19:00:26.837170Z",
     "shell.execute_reply.started": "2021-12-13T18:58:40.304317Z"
    },
    "id": "xjaprMFhFHR-",
    "papermill": {
     "duration": 0.044881,
     "end_time": "2021-12-13T19:00:26.837351",
     "exception": false,
     "start_time": "2021-12-13T19:00:26.792470",
     "status": "completed"
    },
    "tags": []
   },
   "outputs": [],
   "source": [
    "# # Function to extract director name\n",
    "def find3(text):\n",
    "    L = []\n",
    "    for i in ast.literal_eval(text):\n",
    "        if i['job'] == 'Director':\n",
    "            L.append(i['name'])\n",
    "    return L "
   ]
  },
  {
   "cell_type": "code",
   "execution_count": 20,
   "id": "9053b374",
   "metadata": {
    "execution": {
     "iopub.execute_input": "2021-12-13T19:00:26.913433Z",
     "iopub.status.busy": "2021-12-13T19:00:26.911177Z",
     "iopub.status.idle": "2021-12-13T19:00:30.742721Z",
     "shell.execute_reply": "2021-12-13T19:00:30.743238Z",
     "shell.execute_reply.started": "2021-12-13T18:58:40.316764Z"
    },
    "id": "p8nQfH3LFX25",
    "papermill": {
     "duration": 3.870276,
     "end_time": "2021-12-13T19:00:30.743436",
     "exception": false,
     "start_time": "2021-12-13T19:00:26.873160",
     "status": "completed"
    },
    "tags": []
   },
   "outputs": [],
   "source": [
    "movies['crew'] = movies['crew'].apply(find3)"
   ]
  },
  {
   "cell_type": "code",
   "execution_count": 21,
   "id": "c4b58b5a",
   "metadata": {
    "execution": {
     "iopub.execute_input": "2021-12-13T19:00:30.821062Z",
     "iopub.status.busy": "2021-12-13T19:00:30.820269Z",
     "iopub.status.idle": "2021-12-13T19:00:30.828106Z",
     "shell.execute_reply": "2021-12-13T19:00:30.828605Z",
     "shell.execute_reply.started": "2021-12-13T18:58:43.460271Z"
    },
    "id": "QEnnqaSVFddE",
    "outputId": "32b9fea7-87a8-478c-c76e-7fb5ff92b7fe",
    "papermill": {
     "duration": 0.049043,
     "end_time": "2021-12-13T19:00:30.828810",
     "exception": false,
     "start_time": "2021-12-13T19:00:30.779767",
     "status": "completed"
    },
    "tags": []
   },
   "outputs": [
    {
     "data": {
      "text/plain": [
       "0                                [James Cameron]\n",
       "1                               [Gore Verbinski]\n",
       "2                                   [Sam Mendes]\n",
       "3                            [Christopher Nolan]\n",
       "4                               [Andrew Stanton]\n",
       "                          ...                   \n",
       "4804                          [Robert Rodriguez]\n",
       "4805                              [Edward Burns]\n",
       "4806                               [Scott Smith]\n",
       "4807                               [Daniel Hsia]\n",
       "4808    [Brian Herzlinger, Jon Gunn, Brett Winn]\n",
       "Name: crew, Length: 4806, dtype: object"
      ]
     },
     "execution_count": 21,
     "metadata": {},
     "output_type": "execute_result"
    }
   ],
   "source": [
    "movies['crew']"
   ]
  },
  {
   "cell_type": "code",
   "execution_count": 22,
   "id": "c0c0bf61",
   "metadata": {
    "execution": {
     "iopub.execute_input": "2021-12-13T19:00:30.906173Z",
     "iopub.status.busy": "2021-12-13T19:00:30.905268Z",
     "iopub.status.idle": "2021-12-13T19:00:30.909199Z",
     "shell.execute_reply": "2021-12-13T19:00:30.909751Z",
     "shell.execute_reply.started": "2021-12-13T18:58:43.469375Z"
    },
    "id": "rCakMlfSFwPE",
    "papermill": {
     "duration": 0.043956,
     "end_time": "2021-12-13T19:00:30.909926",
     "exception": false,
     "start_time": "2021-12-13T19:00:30.865970",
     "status": "completed"
    },
    "tags": []
   },
   "outputs": [],
   "source": [
    "def space(L):\n",
    "    L1 = []\n",
    "    for i in L:\n",
    "        L1.append(i.replace(\" \",\"\"))\n",
    "    return L1"
   ]
  },
  {
   "cell_type": "code",
   "execution_count": 23,
   "id": "3d1294f6",
   "metadata": {
    "execution": {
     "iopub.execute_input": "2021-12-13T19:00:30.987137Z",
     "iopub.status.busy": "2021-12-13T19:00:30.986496Z",
     "iopub.status.idle": "2021-12-13T19:00:31.028595Z",
     "shell.execute_reply": "2021-12-13T19:00:31.029137Z",
     "shell.execute_reply.started": "2021-12-13T18:58:43.481328Z"
    },
    "id": "vpVPeYgTF4qD",
    "papermill": {
     "duration": 0.08227,
     "end_time": "2021-12-13T19:00:31.029309",
     "exception": false,
     "start_time": "2021-12-13T19:00:30.947039",
     "status": "completed"
    },
    "tags": []
   },
   "outputs": [],
   "source": [
    "movies['cast'] = movies['cast'].apply(space)\n",
    "movies['crew'] = movies['crew'].apply(space)\n",
    "movies['genres'] = movies['genres'].apply(space)\n",
    "movies['keywords'] = movies['keywords'].apply(space)"
   ]
  },
  {
   "cell_type": "code",
   "execution_count": 24,
   "id": "852cc3f3",
   "metadata": {
    "execution": {
     "iopub.execute_input": "2021-12-13T19:00:31.106788Z",
     "iopub.status.busy": "2021-12-13T19:00:31.106153Z",
     "iopub.status.idle": "2021-12-13T19:00:31.124874Z",
     "shell.execute_reply": "2021-12-13T19:00:31.125463Z",
     "shell.execute_reply.started": "2021-12-13T18:58:43.524868Z"
    },
    "id": "2TjvCi-0F-Hs",
    "outputId": "8afc287d-0612-47b8-9866-041dbcb8edaa",
    "papermill": {
     "duration": 0.058602,
     "end_time": "2021-12-13T19:00:31.125628",
     "exception": false,
     "start_time": "2021-12-13T19:00:31.067026",
     "status": "completed"
    },
    "tags": []
   },
   "outputs": [
    {
     "data": {
      "text/html": [
       "<div>\n",
       "<style scoped>\n",
       "    .dataframe tbody tr th:only-of-type {\n",
       "        vertical-align: middle;\n",
       "    }\n",
       "\n",
       "    .dataframe tbody tr th {\n",
       "        vertical-align: top;\n",
       "    }\n",
       "\n",
       "    .dataframe thead th {\n",
       "        text-align: right;\n",
       "    }\n",
       "</style>\n",
       "<table border=\"1\" class=\"dataframe\">\n",
       "  <thead>\n",
       "    <tr style=\"text-align: right;\">\n",
       "      <th></th>\n",
       "      <th>movie_id</th>\n",
       "      <th>title</th>\n",
       "      <th>overview</th>\n",
       "      <th>genres</th>\n",
       "      <th>keywords</th>\n",
       "      <th>cast</th>\n",
       "      <th>crew</th>\n",
       "    </tr>\n",
       "  </thead>\n",
       "  <tbody>\n",
       "    <tr>\n",
       "      <th>0</th>\n",
       "      <td>19995</td>\n",
       "      <td>Avatar</td>\n",
       "      <td>In the 22nd century, a paraplegic Marine is di...</td>\n",
       "      <td>[Action, Adventure, Fantasy, ScienceFiction]</td>\n",
       "      <td>[cultureclash, future, spacewar, spacecolony, ...</td>\n",
       "      <td>[SamWorthington, ZoeSaldana, SigourneyWeaver, ...</td>\n",
       "      <td>[JamesCameron]</td>\n",
       "    </tr>\n",
       "    <tr>\n",
       "      <th>1</th>\n",
       "      <td>285</td>\n",
       "      <td>Pirates of the Caribbean: At World's End</td>\n",
       "      <td>Captain Barbossa, long believed to be dead, ha...</td>\n",
       "      <td>[Adventure, Fantasy, Action]</td>\n",
       "      <td>[ocean, drugabuse, exoticisland, eastindiatrad...</td>\n",
       "      <td>[JohnnyDepp, OrlandoBloom, KeiraKnightley, Ste...</td>\n",
       "      <td>[GoreVerbinski]</td>\n",
       "    </tr>\n",
       "    <tr>\n",
       "      <th>2</th>\n",
       "      <td>206647</td>\n",
       "      <td>Spectre</td>\n",
       "      <td>A cryptic message from Bond’s past sends him o...</td>\n",
       "      <td>[Action, Adventure, Crime]</td>\n",
       "      <td>[spy, basedonnovel, secretagent, sequel, mi6, ...</td>\n",
       "      <td>[DanielCraig, ChristophWaltz, LéaSeydoux, Ralp...</td>\n",
       "      <td>[SamMendes]</td>\n",
       "    </tr>\n",
       "    <tr>\n",
       "      <th>3</th>\n",
       "      <td>49026</td>\n",
       "      <td>The Dark Knight Rises</td>\n",
       "      <td>Following the death of District Attorney Harve...</td>\n",
       "      <td>[Action, Crime, Drama, Thriller]</td>\n",
       "      <td>[dccomics, crimefighter, terrorist, secretiden...</td>\n",
       "      <td>[ChristianBale, MichaelCaine, GaryOldman, Anne...</td>\n",
       "      <td>[ChristopherNolan]</td>\n",
       "    </tr>\n",
       "    <tr>\n",
       "      <th>4</th>\n",
       "      <td>49529</td>\n",
       "      <td>John Carter</td>\n",
       "      <td>John Carter is a war-weary, former military ca...</td>\n",
       "      <td>[Action, Adventure, ScienceFiction]</td>\n",
       "      <td>[basedonnovel, mars, medallion, spacetravel, p...</td>\n",
       "      <td>[TaylorKitsch, LynnCollins, SamanthaMorton, Wi...</td>\n",
       "      <td>[AndrewStanton]</td>\n",
       "    </tr>\n",
       "  </tbody>\n",
       "</table>\n",
       "</div>"
      ],
      "text/plain": [
       "   movie_id                                     title  \\\n",
       "0     19995                                    Avatar   \n",
       "1       285  Pirates of the Caribbean: At World's End   \n",
       "2    206647                                   Spectre   \n",
       "3     49026                     The Dark Knight Rises   \n",
       "4     49529                               John Carter   \n",
       "\n",
       "                                            overview  \\\n",
       "0  In the 22nd century, a paraplegic Marine is di...   \n",
       "1  Captain Barbossa, long believed to be dead, ha...   \n",
       "2  A cryptic message from Bond’s past sends him o...   \n",
       "3  Following the death of District Attorney Harve...   \n",
       "4  John Carter is a war-weary, former military ca...   \n",
       "\n",
       "                                         genres  \\\n",
       "0  [Action, Adventure, Fantasy, ScienceFiction]   \n",
       "1                  [Adventure, Fantasy, Action]   \n",
       "2                    [Action, Adventure, Crime]   \n",
       "3              [Action, Crime, Drama, Thriller]   \n",
       "4           [Action, Adventure, ScienceFiction]   \n",
       "\n",
       "                                            keywords  \\\n",
       "0  [cultureclash, future, spacewar, spacecolony, ...   \n",
       "1  [ocean, drugabuse, exoticisland, eastindiatrad...   \n",
       "2  [spy, basedonnovel, secretagent, sequel, mi6, ...   \n",
       "3  [dccomics, crimefighter, terrorist, secretiden...   \n",
       "4  [basedonnovel, mars, medallion, spacetravel, p...   \n",
       "\n",
       "                                                cast                crew  \n",
       "0  [SamWorthington, ZoeSaldana, SigourneyWeaver, ...      [JamesCameron]  \n",
       "1  [JohnnyDepp, OrlandoBloom, KeiraKnightley, Ste...     [GoreVerbinski]  \n",
       "2  [DanielCraig, ChristophWaltz, LéaSeydoux, Ralp...         [SamMendes]  \n",
       "3  [ChristianBale, MichaelCaine, GaryOldman, Anne...  [ChristopherNolan]  \n",
       "4  [TaylorKitsch, LynnCollins, SamanthaMorton, Wi...     [AndrewStanton]  "
      ]
     },
     "execution_count": 24,
     "metadata": {},
     "output_type": "execute_result"
    }
   ],
   "source": [
    "movies.head(5)"
   ]
  },
  {
   "cell_type": "code",
   "execution_count": 25,
   "id": "0dfc2c41",
   "metadata": {
    "execution": {
     "iopub.execute_input": "2021-12-13T19:00:31.202348Z",
     "iopub.status.busy": "2021-12-13T19:00:31.201686Z",
     "iopub.status.idle": "2021-12-13T19:00:31.347813Z",
     "shell.execute_reply": "2021-12-13T19:00:31.348349Z",
     "shell.execute_reply.started": "2021-12-13T18:58:43.546667Z"
    },
    "id": "xsWF_ZTkG1nU",
    "papermill": {
     "duration": 0.186685,
     "end_time": "2021-12-13T19:00:31.348542",
     "exception": false,
     "start_time": "2021-12-13T19:00:31.161857",
     "status": "completed"
    },
    "tags": []
   },
   "outputs": [],
   "source": [
    "movies['overview'] = movies['overview'].apply(lambda x:x.split())"
   ]
  },
  {
   "cell_type": "code",
   "execution_count": 26,
   "id": "30b3e1ff",
   "metadata": {
    "execution": {
     "iopub.execute_input": "2021-12-13T19:00:31.433950Z",
     "iopub.status.busy": "2021-12-13T19:00:31.433262Z",
     "iopub.status.idle": "2021-12-13T19:00:31.435972Z",
     "shell.execute_reply": "2021-12-13T19:00:31.436517Z",
     "shell.execute_reply.started": "2021-12-13T18:58:43.688055Z"
    },
    "id": "BWFelhv8G4sS",
    "outputId": "9fc1308c-30e3-4181-c22a-8fc72dc69ba8",
    "papermill": {
     "duration": 0.051288,
     "end_time": "2021-12-13T19:00:31.436688",
     "exception": false,
     "start_time": "2021-12-13T19:00:31.385400",
     "status": "completed"
    },
    "tags": []
   },
   "outputs": [
    {
     "data": {
      "text/plain": [
       "0       [In, the, 22nd, century,, a, paraplegic, Marin...\n",
       "1       [Captain, Barbossa,, long, believed, to, be, d...\n",
       "2       [A, cryptic, message, from, Bond’s, past, send...\n",
       "3       [Following, the, death, of, District, Attorney...\n",
       "4       [John, Carter, is, a, war-weary,, former, mili...\n",
       "                              ...                        \n",
       "4804    [El, Mariachi, just, wants, to, play, his, gui...\n",
       "4805    [A, newlywed, couple's, honeymoon, is, upended...\n",
       "4806    [\"Signed,, Sealed,, Delivered\", introduces, a,...\n",
       "4807    [When, ambitious, New, York, attorney, Sam, is...\n",
       "4808    [Ever, since, the, second, grade, when, he, fi...\n",
       "Name: overview, Length: 4806, dtype: object"
      ]
     },
     "execution_count": 26,
     "metadata": {},
     "output_type": "execute_result"
    }
   ],
   "source": [
    "movies['overview']"
   ]
  },
  {
   "cell_type": "code",
   "execution_count": 27,
   "id": "09a23899",
   "metadata": {
    "execution": {
     "iopub.execute_input": "2021-12-13T19:00:31.577917Z",
     "iopub.status.busy": "2021-12-13T19:00:31.577218Z",
     "iopub.status.idle": "2021-12-13T19:00:31.580335Z",
     "shell.execute_reply": "2021-12-13T19:00:31.579817Z",
     "shell.execute_reply.started": "2021-12-13T18:58:43.697665Z"
    },
    "id": "H6Y-HLiZHIaj",
    "papermill": {
     "duration": 0.106681,
     "end_time": "2021-12-13T19:00:31.580503",
     "exception": false,
     "start_time": "2021-12-13T19:00:31.473822",
     "status": "completed"
    },
    "tags": []
   },
   "outputs": [],
   "source": [
    "# Making a new column 'tags' which is made by combining all features\n",
    "movies['tags'] = movies['overview'] + movies['genres'] + movies['keywords'] + movies['cast'] + movies['crew']"
   ]
  },
  {
   "cell_type": "code",
   "execution_count": 28,
   "id": "0dbface2",
   "metadata": {
    "execution": {
     "iopub.execute_input": "2021-12-13T19:00:31.662636Z",
     "iopub.status.busy": "2021-12-13T19:00:31.661888Z",
     "iopub.status.idle": "2021-12-13T19:00:31.663431Z",
     "shell.execute_reply": "2021-12-13T19:00:31.664077Z",
     "shell.execute_reply.started": "2021-12-13T18:58:43.766976Z"
    },
    "id": "MA5W1MRPHWGz",
    "papermill": {
     "duration": 0.045992,
     "end_time": "2021-12-13T19:00:31.664245",
     "exception": false,
     "start_time": "2021-12-13T19:00:31.618253",
     "status": "completed"
    },
    "tags": []
   },
   "outputs": [],
   "source": [
    "new_movies = movies.drop(columns=['overview','genres','keywords','cast','crew'])"
   ]
  },
  {
   "cell_type": "code",
   "execution_count": 29,
   "id": "7a659164",
   "metadata": {
    "execution": {
     "iopub.execute_input": "2021-12-13T19:00:31.741903Z",
     "iopub.status.busy": "2021-12-13T19:00:31.741241Z",
     "iopub.status.idle": "2021-12-13T19:00:31.751069Z",
     "shell.execute_reply": "2021-12-13T19:00:31.751693Z",
     "shell.execute_reply.started": "2021-12-13T18:58:43.773757Z"
    },
    "id": "NAIG355SHaWU",
    "outputId": "e3fb6dcf-4082-4dfa-b809-2d1d6e0deb73",
    "papermill": {
     "duration": 0.050272,
     "end_time": "2021-12-13T19:00:31.751874",
     "exception": false,
     "start_time": "2021-12-13T19:00:31.701602",
     "status": "completed"
    },
    "tags": []
   },
   "outputs": [
    {
     "data": {
      "text/plain": [
       "['In',\n",
       " 'the',\n",
       " '22nd',\n",
       " 'century,',\n",
       " 'a',\n",
       " 'paraplegic',\n",
       " 'Marine',\n",
       " 'is',\n",
       " 'dispatched',\n",
       " 'to',\n",
       " 'the',\n",
       " 'moon',\n",
       " 'Pandora',\n",
       " 'on',\n",
       " 'a',\n",
       " 'unique',\n",
       " 'mission,',\n",
       " 'but',\n",
       " 'becomes',\n",
       " 'torn',\n",
       " 'between',\n",
       " 'following',\n",
       " 'orders',\n",
       " 'and',\n",
       " 'protecting',\n",
       " 'an',\n",
       " 'alien',\n",
       " 'civilization.',\n",
       " 'Action',\n",
       " 'Adventure',\n",
       " 'Fantasy',\n",
       " 'ScienceFiction',\n",
       " 'cultureclash',\n",
       " 'future',\n",
       " 'spacewar',\n",
       " 'spacecolony',\n",
       " 'society',\n",
       " 'spacetravel',\n",
       " 'futuristic',\n",
       " 'romance',\n",
       " 'space',\n",
       " 'alien',\n",
       " 'tribe',\n",
       " 'alienplanet',\n",
       " 'cgi',\n",
       " 'marine',\n",
       " 'soldier',\n",
       " 'battle',\n",
       " 'loveaffair',\n",
       " 'antiwar',\n",
       " 'powerrelations',\n",
       " 'mindandsoul',\n",
       " '3d',\n",
       " 'SamWorthington',\n",
       " 'ZoeSaldana',\n",
       " 'SigourneyWeaver',\n",
       " 'StephenLang',\n",
       " 'JamesCameron']"
      ]
     },
     "execution_count": 29,
     "metadata": {},
     "output_type": "execute_result"
    }
   ],
   "source": [
    "new_movies['tags'][0]"
   ]
  },
  {
   "cell_type": "code",
   "execution_count": 30,
   "id": "332875be",
   "metadata": {
    "execution": {
     "iopub.execute_input": "2021-12-13T19:00:31.831744Z",
     "iopub.status.busy": "2021-12-13T19:00:31.830739Z",
     "iopub.status.idle": "2021-12-13T19:00:31.852326Z",
     "shell.execute_reply": "2021-12-13T19:00:31.852885Z",
     "shell.execute_reply.started": "2021-12-13T18:58:43.789759Z"
    },
    "id": "DBoSVdftH_UO",
    "papermill": {
     "duration": 0.063478,
     "end_time": "2021-12-13T19:00:31.853058",
     "exception": false,
     "start_time": "2021-12-13T19:00:31.789580",
     "status": "completed"
    },
    "tags": []
   },
   "outputs": [],
   "source": [
    "new_movies['tags'] = new_movies['tags'].apply(lambda x: \" \".join(x))"
   ]
  },
  {
   "cell_type": "code",
   "execution_count": 31,
   "id": "817e44ec",
   "metadata": {
    "execution": {
     "iopub.execute_input": "2021-12-13T19:00:31.932797Z",
     "iopub.status.busy": "2021-12-13T19:00:31.931753Z",
     "iopub.status.idle": "2021-12-13T19:00:31.937148Z",
     "shell.execute_reply": "2021-12-13T19:00:31.937774Z",
     "shell.execute_reply.started": "2021-12-13T18:58:43.810239Z"
    },
    "id": "0DdImJTpID4M",
    "outputId": "e2c4c768-43a1-451f-bf13-aff38d7faa23",
    "papermill": {
     "duration": 0.047107,
     "end_time": "2021-12-13T19:00:31.937947",
     "exception": false,
     "start_time": "2021-12-13T19:00:31.890840",
     "status": "completed"
    },
    "tags": []
   },
   "outputs": [
    {
     "data": {
      "text/plain": [
       "'In the 22nd century, a paraplegic Marine is dispatched to the moon Pandora on a unique mission, but becomes torn between following orders and protecting an alien civilization. Action Adventure Fantasy ScienceFiction cultureclash future spacewar spacecolony society spacetravel futuristic romance space alien tribe alienplanet cgi marine soldier battle loveaffair antiwar powerrelations mindandsoul 3d SamWorthington ZoeSaldana SigourneyWeaver StephenLang JamesCameron'"
      ]
     },
     "execution_count": 31,
     "metadata": {},
     "output_type": "execute_result"
    }
   ],
   "source": [
    "new_movies['tags'][0]"
   ]
  },
  {
   "cell_type": "code",
   "execution_count": 32,
   "id": "7131664b",
   "metadata": {
    "execution": {
     "iopub.execute_input": "2021-12-13T19:00:32.018779Z",
     "iopub.status.busy": "2021-12-13T19:00:32.017882Z",
     "iopub.status.idle": "2021-12-13T19:00:32.168237Z",
     "shell.execute_reply": "2021-12-13T19:00:32.167647Z",
     "shell.execute_reply.started": "2021-12-13T18:58:43.823382Z"
    },
    "id": "Dp71wGkqKJQA",
    "papermill": {
     "duration": 0.192525,
     "end_time": "2021-12-13T19:00:32.168392",
     "exception": false,
     "start_time": "2021-12-13T19:00:31.975867",
     "status": "completed"
    },
    "tags": []
   },
   "outputs": [],
   "source": [
    "from sklearn.feature_extraction.text import CountVectorizer\n",
    "cv = CountVectorizer(max_features=5000,stop_words='english')"
   ]
  },
  {
   "cell_type": "code",
   "execution_count": 33,
   "id": "d2145ca1",
   "metadata": {
    "execution": {
     "iopub.execute_input": "2021-12-13T19:00:32.247198Z",
     "iopub.status.busy": "2021-12-13T19:00:32.246456Z",
     "iopub.status.idle": "2021-12-13T19:00:32.891162Z",
     "shell.execute_reply": "2021-12-13T19:00:32.890598Z",
     "shell.execute_reply.started": "2021-12-13T18:58:43.970088Z"
    },
    "id": "4KBM8pbxLMG0",
    "papermill": {
     "duration": 0.684643,
     "end_time": "2021-12-13T19:00:32.891314",
     "exception": false,
     "start_time": "2021-12-13T19:00:32.206671",
     "status": "completed"
    },
    "tags": []
   },
   "outputs": [],
   "source": [
    "vector = cv.fit_transform(new_movies['tags']).toarray()"
   ]
  },
  {
   "cell_type": "code",
   "execution_count": 34,
   "id": "b598d0ee",
   "metadata": {
    "execution": {
     "iopub.execute_input": "2021-12-13T19:00:32.972533Z",
     "iopub.status.busy": "2021-12-13T19:00:32.971501Z",
     "iopub.status.idle": "2021-12-13T19:00:32.975437Z",
     "shell.execute_reply": "2021-12-13T19:00:32.974972Z",
     "shell.execute_reply.started": "2021-12-13T18:58:44.463842Z"
    },
    "id": "w-zojifULQ1x",
    "outputId": "315a55ec-d027-4176-ab28-f489908b06c4",
    "papermill": {
     "duration": 0.046476,
     "end_time": "2021-12-13T19:00:32.975610",
     "exception": false,
     "start_time": "2021-12-13T19:00:32.929134",
     "status": "completed"
    },
    "tags": []
   },
   "outputs": [
    {
     "data": {
      "text/plain": [
       "(4806, 5000)"
      ]
     },
     "execution_count": 34,
     "metadata": {},
     "output_type": "execute_result"
    }
   ],
   "source": [
    "vector.shape"
   ]
  },
  {
   "cell_type": "code",
   "execution_count": 35,
   "id": "023b0643",
   "metadata": {
    "execution": {
     "iopub.execute_input": "2021-12-13T19:00:33.057072Z",
     "iopub.status.busy": "2021-12-13T19:00:33.055028Z",
     "iopub.status.idle": "2021-12-13T19:00:35.318321Z",
     "shell.execute_reply": "2021-12-13T19:00:35.319267Z",
     "shell.execute_reply.started": "2021-12-13T18:58:44.471552Z"
    },
    "id": "j1TBgAj8M4zn",
    "papermill": {
     "duration": 2.305795,
     "end_time": "2021-12-13T19:00:35.319561",
     "exception": false,
     "start_time": "2021-12-13T19:00:33.013766",
     "status": "completed"
    },
    "tags": []
   },
   "outputs": [],
   "source": [
    "from sklearn.metrics.pairwise import cosine_similarity\n",
    "cv_similarity_matrix = cosine_similarity(vector)"
   ]
  },
  {
   "cell_type": "code",
   "execution_count": 36,
   "id": "e2c02a52",
   "metadata": {
    "execution": {
     "iopub.execute_input": "2021-12-13T19:00:35.411367Z",
     "iopub.status.busy": "2021-12-13T19:00:35.410632Z",
     "iopub.status.idle": "2021-12-13T19:00:35.413132Z",
     "shell.execute_reply": "2021-12-13T19:00:35.413755Z",
     "shell.execute_reply.started": "2021-12-13T18:58:46.535754Z"
    },
    "id": "uOSlZNNhM850",
    "outputId": "e8cb7891-2e1b-4ffc-b465-12c678318618",
    "papermill": {
     "duration": 0.047833,
     "end_time": "2021-12-13T19:00:35.413931",
     "exception": false,
     "start_time": "2021-12-13T19:00:35.366098",
     "status": "completed"
    },
    "tags": []
   },
   "outputs": [
    {
     "data": {
      "text/plain": [
       "(4806, 4806)"
      ]
     },
     "execution_count": 36,
     "metadata": {},
     "output_type": "execute_result"
    }
   ],
   "source": [
    "cv_similarity_matrix.shape"
   ]
  },
  {
   "cell_type": "code",
   "execution_count": 37,
   "id": "89b77144",
   "metadata": {
    "execution": {
     "iopub.execute_input": "2021-12-13T19:00:35.498420Z",
     "iopub.status.busy": "2021-12-13T19:00:35.495044Z",
     "iopub.status.idle": "2021-12-13T19:00:35.502299Z",
     "shell.execute_reply": "2021-12-13T19:00:35.501681Z",
     "shell.execute_reply.started": "2021-12-13T18:58:46.547928Z"
    },
    "id": "vtS9uAY8NAPf",
    "outputId": "be03e362-1ffa-4947-9ebe-9c6996d96480",
    "papermill": {
     "duration": 0.048902,
     "end_time": "2021-12-13T19:00:35.502434",
     "exception": false,
     "start_time": "2021-12-13T19:00:35.453532",
     "status": "completed"
    },
    "tags": []
   },
   "outputs": [
    {
     "data": {
      "text/plain": [
       "array([[1.        , 0.08838835, 0.05892557, ..., 0.02512595, 0.02777778,\n",
       "        0.        ],\n",
       "       [0.08838835, 1.        , 0.0625    , ..., 0.02665009, 0.        ,\n",
       "        0.        ],\n",
       "       [0.05892557, 0.0625    , 1.        , ..., 0.02665009, 0.        ,\n",
       "        0.        ],\n",
       "       ...,\n",
       "       [0.02512595, 0.02665009, 0.02665009, ..., 1.        , 0.07537784,\n",
       "        0.04828045],\n",
       "       [0.02777778, 0.        , 0.        , ..., 0.07537784, 1.        ,\n",
       "        0.05337605],\n",
       "       [0.        , 0.        , 0.        , ..., 0.04828045, 0.05337605,\n",
       "        1.        ]])"
      ]
     },
     "execution_count": 37,
     "metadata": {},
     "output_type": "execute_result"
    }
   ],
   "source": [
    "cv_similarity_matrix"
   ]
  },
  {
   "cell_type": "code",
   "execution_count": 38,
   "id": "d33cfb72",
   "metadata": {
    "execution": {
     "iopub.execute_input": "2021-12-13T19:00:35.585906Z",
     "iopub.status.busy": "2021-12-13T19:00:35.584995Z",
     "iopub.status.idle": "2021-12-13T19:00:35.587696Z",
     "shell.execute_reply": "2021-12-13T19:00:35.588233Z",
     "shell.execute_reply.started": "2021-12-13T18:58:46.561956Z"
    },
    "id": "OG7oK_xwNLVb",
    "papermill": {
     "duration": 0.047621,
     "end_time": "2021-12-13T19:00:35.588414",
     "exception": false,
     "start_time": "2021-12-13T19:00:35.540793",
     "status": "completed"
    },
    "tags": []
   },
   "outputs": [],
   "source": [
    "def recommend(movie):\n",
    "    index = new_movies[new_movies['title'] == movie].index[0]\n",
    "    distances = sorted(list(enumerate(cv_similarity_matrix[index])),reverse=True,key = lambda x: x[1])\n",
    "    for i in distances[1:7]:\n",
    "        print(new_movies.iloc[i[0]].title)"
   ]
  },
  {
   "cell_type": "code",
   "execution_count": 39,
   "id": "eb8f0244",
   "metadata": {
    "execution": {
     "iopub.execute_input": "2021-12-13T19:00:35.671528Z",
     "iopub.status.busy": "2021-12-13T19:00:35.668488Z",
     "iopub.status.idle": "2021-12-13T19:00:35.685100Z",
     "shell.execute_reply": "2021-12-13T19:00:35.683956Z",
     "shell.execute_reply.started": "2021-12-13T18:58:46.571806Z"
    },
    "id": "QUfT0MYQNzh7",
    "outputId": "4d63dc7b-069a-48ed-a9d9-4f19854f6225",
    "papermill": {
     "duration": 0.058263,
     "end_time": "2021-12-13T19:00:35.685375",
     "exception": false,
     "start_time": "2021-12-13T19:00:35.627112",
     "status": "completed"
    },
    "tags": []
   },
   "outputs": [
    {
     "name": "stdout",
     "output_type": "stream",
     "text": [
      "Gandhi, My Father\n",
      "The Wind That Shakes the Barley\n",
      "A Passage to India\n",
      "Guiana 1838\n",
      "Bloody Sunday\n",
      "Ramanujan\n"
     ]
    }
   ],
   "source": [
    "recommend('Gandhi')"
   ]
  }
 ],
 "metadata": {
  "kernelspec": {
   "display_name": "Python 3",
   "language": "python",
   "name": "python3"
  },
  "language_info": {
   "codemirror_mode": {
    "name": "ipython",
    "version": 3
   },
   "file_extension": ".py",
   "mimetype": "text/x-python",
   "name": "python",
   "nbconvert_exporter": "python",
   "pygments_lexer": "ipython3",
   "version": "3.7.12"
  },
  "papermill": {
   "default_parameters": {},
   "duration": 28.350096,
   "end_time": "2021-12-13T19:00:36.435930",
   "environment_variables": {},
   "exception": null,
   "input_path": "__notebook__.ipynb",
   "output_path": "__notebook__.ipynb",
   "parameters": {},
   "start_time": "2021-12-13T19:00:08.085834",
   "version": "2.3.3"
  }
 },
 "nbformat": 4,
 "nbformat_minor": 5
}
